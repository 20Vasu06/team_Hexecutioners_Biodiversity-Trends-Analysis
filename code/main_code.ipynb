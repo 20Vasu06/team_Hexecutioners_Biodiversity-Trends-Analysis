import pandas as pd
import matplotlib.pyplot as plt
import seaborn as sns
import numpy as np

abundance_data = {
    'Year': [
        *range(2001, 2025),
        *range(2001, 2025),
        *range(2001, 2025),
        *range(2001, 2025),
        *range(2001, 2025)
    ],
    'Species': (
        ['Bengal Tiger'] * 24 +
        ['Asian Elephant'] * 24 +
        ['Snow Leopard'] * 24 +
        ['Eagle'] * 24 +
        ['Dolphin'] * 24
    ),
    'Abundance': (
        [90 + i * 8 for i in range(24)] +  # Bengal Tiger
        [150 + i * 6 for i in range(24)] +  # Asian Elephant
        [55 + i * 4 for i in range(24)] +   # Snow Leopard
        [120 + i * 5 for i in range(24)] +  # Birds of Prey
        [200 + i * 10 for i in range(24)]  # Dolphins
    ),
    'Region': (
        ['Region A'] * 24 +
        ['Region B'] * 24 +
        ['Region C'] * 24 +
        ['Region D'] * 24 +
        ['Region E'] * 24
    )
}

abundance_df = pd.DataFrame(abundance_data)

years = list(range(2001, 2025))
temperature_data = {
    'Year': years * 5,
    'Species': (
        ['Bengal Tiger'] * len(years) +
        ['Asian Elephant'] * len(years) +
        ['Snow Leopard'] * len(years) +
        ['Eagle'] * len(years) +
        ['Dolphin'] * len(years)
    ),
    'Temperature': (
        [24 + (0.015 * (year - 2000)) for year in years] +  # Bengal Tiger
        [27 + (0.02 * (year - 2000)) for year in years] +    # Asian Elephant
        [-3 + (0.05 * (year - 2000)) for year in years] +     # Snow Leopard
        [15 + (0.02 * (year - 2000)) for year in years] +     # Birds of Prey
        [20 + (0.01 * (year - 2000)) for year in years]       # Dolphins
    )
}

temperature_df = pd.DataFrame(temperature_data)

merged_df = pd.merge(abundance_df, temperature_df, on=['Year', 'Species'])

plt.figure(figsize=(14, 7))
sns.lineplot(x='Year', y='Abundance', hue='Species', data=abundance_df, marker="o")
plt.title('Trends in Species Abundance Over Time')
plt.xlabel('Year')
plt.ylabel('Abundance')
plt.legend(loc='upper left', bbox_to_anchor=(1, 1))
plt.grid(True)
plt.show()

total_abundance = abundance_df.groupby('Year')['Abundance'].sum().reset_index()

plt.figure(figsize=(14, 7))
sns.barplot(x='Year', y='Abundance', data=total_abundance, palette='viridis')
plt.title('Total Abundance of All Species by Year')
plt.xlabel('Year')
plt.ylabel('Total Abundance')
plt.xticks(rotation=45)
plt.grid(True)
plt.show()

pivot_table = temperature_df.pivot(index='Year', columns='Species', values='Temperature')

plt.figure(figsize=(16, 8))
sns.heatmap(
    pivot_table,
    annot=True,
    fmt=".1f",
    cmap="coolwarm",
    linewidths=0.5,
    linecolor="black",
    cbar_kws={'label': 'Temperature (°C)'}
)

plt.title('Heatmap of Average Annual Temperatures by Species Habitat (2001–2024)', fontsize=16, weight='bold', pad=20)
plt.xlabel('Species', fontsize=14, labelpad=10)
plt.ylabel('Year', fontsize=14, labelpad=10)

plt.xticks(fontsize=12, rotation=45, ha='right')
plt.yticks(fontsize=12)

plt.grid(visible=False)


plt.tight_layout()
plt.show()


habitat_reduction_data = {
    'Species': ['Bengal Tiger', 'Asian Elephant', 'Snow Leopard', 'Eagle', 'Dolphin'],
    'Habitat Size Reduction (%)': [30, 25, 40, 20, 15]
}

habitat_reduction_df = pd.DataFrame(habitat_reduction_data)

plt.figure(figsize=(10, 6))
sns.barplot(x='Species', y='Habitat Size Reduction (%)', data=habitat_reduction_df, palette='Blues_d')
plt.title('Habitat Size Reduction (%) by Species')
plt.xlabel('Species')
plt.ylabel('Habitat Size Reduction (%)')
plt.grid(True)
plt.show()



threats_data = {
    'Threat': ['Habitat Loss', 'Climate Change', 'Poaching', 'Pollution', 'Invasive Species'],
    'Percentage': [35, 25, 20, 10, 10]
}

threats_df = pd.DataFrame(threats_data)

plt.figure(figsize=(8, 8))
plt.pie(threats_df['Percentage'], labels=threats_df['Threat'], autopct='%1.1f%%', colors=sns.color_palette('Set3', 5))
plt.title('Threats to Biodiversity by Category')
plt.show()
